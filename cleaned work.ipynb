{
 "cells": [
  {
   "cell_type": "code",
   "execution_count": 1,
   "metadata": {},
   "outputs": [],
   "source": [
    "import pandas as pd\n",
    "import numpy as np\n",
    "import matplotlib.pyplot as plt\n",
    "import seaborn as sns"
   ]
  },
  {
   "cell_type": "code",
   "execution_count": 2,
   "metadata": {},
   "outputs": [],
   "source": [
    "df= pd.read_csv('clean.csv')\n",
    "df.drop('Unnamed: 0', axis=1, inplace= True)"
   ]
  },
  {
   "cell_type": "code",
   "execution_count": 3,
   "metadata": {},
   "outputs": [
    {
     "data": {
      "text/html": [
       "<div>\n",
       "<style scoped>\n",
       "    .dataframe tbody tr th:only-of-type {\n",
       "        vertical-align: middle;\n",
       "    }\n",
       "\n",
       "    .dataframe tbody tr th {\n",
       "        vertical-align: top;\n",
       "    }\n",
       "\n",
       "    .dataframe thead th {\n",
       "        text-align: right;\n",
       "    }\n",
       "</style>\n",
       "<table border=\"1\" class=\"dataframe\">\n",
       "  <thead>\n",
       "    <tr style=\"text-align: right;\">\n",
       "      <th></th>\n",
       "      <th>Study area</th>\n",
       "      <th>Gender</th>\n",
       "      <th>Age</th>\n",
       "      <th>Educational Status</th>\n",
       "      <th>Years of residence</th>\n",
       "      <th>Frequency of visit</th>\n",
       "      <th>Purpose of visit</th>\n",
       "      <th>Use river water for drinking</th>\n",
       "      <th>Acceptance of water quality</th>\n",
       "      <th>Status of fish population</th>\n",
       "      <th>Status of fish diversity</th>\n",
       "      <th>Presence of Alien species</th>\n",
       "      <th>Cause of fish decline</th>\n",
       "      <th>Pollution status</th>\n",
       "      <th>Nature of pollutants</th>\n",
       "    </tr>\n",
       "  </thead>\n",
       "  <tbody>\n",
       "    <tr>\n",
       "      <th>0</th>\n",
       "      <td>Parali</td>\n",
       "      <td>Female</td>\n",
       "      <td>40-59</td>\n",
       "      <td>Graduate</td>\n",
       "      <td>10-20</td>\n",
       "      <td>Daily</td>\n",
       "      <td>Domestic activities</td>\n",
       "      <td>Yes</td>\n",
       "      <td>Yes</td>\n",
       "      <td>Don't know</td>\n",
       "      <td>Don't know</td>\n",
       "      <td>Don't know</td>\n",
       "      <td>Illegfishing</td>\n",
       "      <td>Heavily polluted</td>\n",
       "      <td>Biologiccontaminants</td>\n",
       "    </tr>\n",
       "    <tr>\n",
       "      <th>1</th>\n",
       "      <td>Parali</td>\n",
       "      <td>Male</td>\n",
       "      <td>60-79</td>\n",
       "      <td>HS</td>\n",
       "      <td>&gt;20</td>\n",
       "      <td>Daily</td>\n",
       "      <td>Domestic activities</td>\n",
       "      <td>Yes</td>\n",
       "      <td>Yes</td>\n",
       "      <td>Know</td>\n",
       "      <td>Know</td>\n",
       "      <td>Yes</td>\n",
       "      <td>Illegfishing</td>\n",
       "      <td>Moderately polluted</td>\n",
       "      <td>Biologiccontaminants</td>\n",
       "    </tr>\n",
       "    <tr>\n",
       "      <th>2</th>\n",
       "      <td>Parali</td>\n",
       "      <td>Male</td>\n",
       "      <td>60-79</td>\n",
       "      <td>HS</td>\n",
       "      <td>&gt;20</td>\n",
       "      <td>Daily</td>\n",
       "      <td>Domestic activities</td>\n",
       "      <td>Yes</td>\n",
       "      <td>Yes</td>\n",
       "      <td>Know</td>\n",
       "      <td>Know</td>\n",
       "      <td>Yes</td>\n",
       "      <td>Don't know</td>\n",
       "      <td>Slightly polluted</td>\n",
       "      <td>Biologiccontaminants</td>\n",
       "    </tr>\n",
       "    <tr>\n",
       "      <th>3</th>\n",
       "      <td>Parali</td>\n",
       "      <td>Female</td>\n",
       "      <td>40-59</td>\n",
       "      <td>HS</td>\n",
       "      <td>&gt;20</td>\n",
       "      <td>Daily</td>\n",
       "      <td>Domestic activities</td>\n",
       "      <td>Yes</td>\n",
       "      <td>Yes</td>\n",
       "      <td>Know</td>\n",
       "      <td>Know</td>\n",
       "      <td>Yes</td>\n",
       "      <td>Don't know</td>\n",
       "      <td>Moderately polluted</td>\n",
       "      <td>Biologiccontaminants</td>\n",
       "    </tr>\n",
       "    <tr>\n",
       "      <th>4</th>\n",
       "      <td>Parali</td>\n",
       "      <td>Female</td>\n",
       "      <td>60-79</td>\n",
       "      <td>Primary</td>\n",
       "      <td>&gt;20</td>\n",
       "      <td>Never</td>\n",
       "      <td>Not visiting</td>\n",
       "      <td>No</td>\n",
       "      <td>Yes</td>\n",
       "      <td>Don't know</td>\n",
       "      <td>Don't know</td>\n",
       "      <td>Don't know</td>\n",
       "      <td>Don't know</td>\n",
       "      <td>Slightly polluted</td>\n",
       "      <td>Biologiccontaminants</td>\n",
       "    </tr>\n",
       "    <tr>\n",
       "      <th>...</th>\n",
       "      <td>...</td>\n",
       "      <td>...</td>\n",
       "      <td>...</td>\n",
       "      <td>...</td>\n",
       "      <td>...</td>\n",
       "      <td>...</td>\n",
       "      <td>...</td>\n",
       "      <td>...</td>\n",
       "      <td>...</td>\n",
       "      <td>...</td>\n",
       "      <td>...</td>\n",
       "      <td>...</td>\n",
       "      <td>...</td>\n",
       "      <td>...</td>\n",
       "      <td>...</td>\n",
       "    </tr>\n",
       "    <tr>\n",
       "      <th>295</th>\n",
       "      <td>Ponnani</td>\n",
       "      <td>Male</td>\n",
       "      <td>40-59</td>\n",
       "      <td>Primary</td>\n",
       "      <td>&gt;20</td>\n",
       "      <td>Daily</td>\n",
       "      <td>Fishing</td>\n",
       "      <td>No</td>\n",
       "      <td>No</td>\n",
       "      <td>Know</td>\n",
       "      <td>Know</td>\n",
       "      <td>Yes</td>\n",
       "      <td>Don't know</td>\n",
       "      <td>Slightly polluted</td>\n",
       "      <td>Gross solids</td>\n",
       "    </tr>\n",
       "    <tr>\n",
       "      <th>296</th>\n",
       "      <td>Ponnani</td>\n",
       "      <td>Male</td>\n",
       "      <td>40-59</td>\n",
       "      <td>HS</td>\n",
       "      <td>&gt;20</td>\n",
       "      <td>Never</td>\n",
       "      <td>Not visiting</td>\n",
       "      <td>No</td>\n",
       "      <td>No</td>\n",
       "      <td>Don't know</td>\n",
       "      <td>Don't know</td>\n",
       "      <td>Don't know</td>\n",
       "      <td>Don't know</td>\n",
       "      <td>Slightly polluted</td>\n",
       "      <td>Gross solids</td>\n",
       "    </tr>\n",
       "    <tr>\n",
       "      <th>297</th>\n",
       "      <td>Ponnani</td>\n",
       "      <td>Male</td>\n",
       "      <td>60-79</td>\n",
       "      <td>HS</td>\n",
       "      <td>&gt;20</td>\n",
       "      <td>Never</td>\n",
       "      <td>Not visiting</td>\n",
       "      <td>No</td>\n",
       "      <td>No</td>\n",
       "      <td>Don't know</td>\n",
       "      <td>Don't know</td>\n",
       "      <td>Don't know</td>\n",
       "      <td>Don't know</td>\n",
       "      <td>Not polluted</td>\n",
       "      <td>No pollutants</td>\n",
       "    </tr>\n",
       "    <tr>\n",
       "      <th>298</th>\n",
       "      <td>Ponnani</td>\n",
       "      <td>Male</td>\n",
       "      <td>60-79</td>\n",
       "      <td>Primary</td>\n",
       "      <td>10-20</td>\n",
       "      <td>Occasionally</td>\n",
       "      <td>Fishing</td>\n",
       "      <td>No</td>\n",
       "      <td>Yes</td>\n",
       "      <td>Know</td>\n",
       "      <td>Know</td>\n",
       "      <td>Don't know</td>\n",
       "      <td>Don't know</td>\n",
       "      <td>Not polluted</td>\n",
       "      <td>No pollutants</td>\n",
       "    </tr>\n",
       "    <tr>\n",
       "      <th>299</th>\n",
       "      <td>Ponnani</td>\n",
       "      <td>Male</td>\n",
       "      <td>60-79</td>\n",
       "      <td>Primary</td>\n",
       "      <td>&gt;20</td>\n",
       "      <td>Never</td>\n",
       "      <td>Not visiting</td>\n",
       "      <td>No</td>\n",
       "      <td>Yes</td>\n",
       "      <td>Don't know</td>\n",
       "      <td>Don't know</td>\n",
       "      <td>Don't know</td>\n",
       "      <td>Don't know</td>\n",
       "      <td>Slightly polluted</td>\n",
       "      <td>Gross solids</td>\n",
       "    </tr>\n",
       "  </tbody>\n",
       "</table>\n",
       "<p>300 rows × 15 columns</p>\n",
       "</div>"
      ],
      "text/plain": [
       "    Study area  Gender    Age Educational Status Years of residence  \\\n",
       "0       Parali  Female  40-59           Graduate              10-20   \n",
       "1       Parali    Male  60-79                 HS                >20   \n",
       "2       Parali    Male  60-79                 HS                >20   \n",
       "3       Parali  Female  40-59                 HS                >20   \n",
       "4       Parali  Female  60-79            Primary                >20   \n",
       "..         ...     ...    ...                ...                ...   \n",
       "295    Ponnani    Male  40-59            Primary                >20   \n",
       "296    Ponnani    Male  40-59                 HS                >20   \n",
       "297    Ponnani    Male  60-79                 HS                >20   \n",
       "298    Ponnani    Male  60-79            Primary              10-20   \n",
       "299    Ponnani    Male  60-79            Primary                >20   \n",
       "\n",
       "    Frequency of visit     Purpose of visit Use river water for drinking  \\\n",
       "0                Daily  Domestic activities                          Yes   \n",
       "1                Daily  Domestic activities                          Yes   \n",
       "2                Daily  Domestic activities                          Yes   \n",
       "3                Daily  Domestic activities                          Yes   \n",
       "4                Never         Not visiting                           No   \n",
       "..                 ...                  ...                          ...   \n",
       "295              Daily              Fishing                           No   \n",
       "296              Never         Not visiting                           No   \n",
       "297              Never         Not visiting                           No   \n",
       "298       Occasionally              Fishing                           No   \n",
       "299              Never         Not visiting                           No   \n",
       "\n",
       "    Acceptance of water quality Status of fish population  \\\n",
       "0                           Yes                Don't know   \n",
       "1                           Yes                      Know   \n",
       "2                           Yes                      Know   \n",
       "3                           Yes                      Know   \n",
       "4                           Yes                Don't know   \n",
       "..                          ...                       ...   \n",
       "295                          No                      Know   \n",
       "296                          No                Don't know   \n",
       "297                          No                Don't know   \n",
       "298                         Yes                      Know   \n",
       "299                         Yes                Don't know   \n",
       "\n",
       "    Status of fish diversity Presence of Alien species Cause of fish decline  \\\n",
       "0                 Don't know                Don't know          Illegfishing   \n",
       "1                       Know                       Yes          Illegfishing   \n",
       "2                       Know                       Yes            Don't know   \n",
       "3                       Know                       Yes            Don't know   \n",
       "4                 Don't know                Don't know            Don't know   \n",
       "..                       ...                       ...                   ...   \n",
       "295                     Know                       Yes            Don't know   \n",
       "296               Don't know                Don't know            Don't know   \n",
       "297               Don't know                Don't know            Don't know   \n",
       "298                     Know                Don't know            Don't know   \n",
       "299               Don't know                Don't know            Don't know   \n",
       "\n",
       "        Pollution status  Nature of pollutants  \n",
       "0       Heavily polluted  Biologiccontaminants  \n",
       "1    Moderately polluted  Biologiccontaminants  \n",
       "2      Slightly polluted  Biologiccontaminants  \n",
       "3    Moderately polluted  Biologiccontaminants  \n",
       "4      Slightly polluted  Biologiccontaminants  \n",
       "..                   ...                   ...  \n",
       "295    Slightly polluted          Gross solids  \n",
       "296    Slightly polluted          Gross solids  \n",
       "297         Not polluted         No pollutants  \n",
       "298         Not polluted         No pollutants  \n",
       "299    Slightly polluted          Gross solids  \n",
       "\n",
       "[300 rows x 15 columns]"
      ]
     },
     "execution_count": 3,
     "metadata": {},
     "output_type": "execute_result"
    }
   ],
   "source": [
    "df"
   ]
  },
  {
   "cell_type": "markdown",
   "metadata": {},
   "source": [
    "## Use of water for drinking; effect of Study area"
   ]
  },
  {
   "cell_type": "code",
   "execution_count": 4,
   "metadata": {},
   "outputs": [
    {
     "data": {
      "text/plain": [
       "Study area  Use river water for drinking\n",
       "Ivarmadom   No                              46\n",
       "            Yes                             15\n",
       "Parali      No                              47\n",
       "            Yes                             17\n",
       "Pattambi    No                              61\n",
       "            Yes                              5\n",
       "Ponnani     No                              36\n",
       "            Yes                              3\n",
       "Shoranur    No                              48\n",
       "            Yes                              2\n",
       "Name: Use river water for drinking, dtype: int64"
      ]
     },
     "execution_count": 4,
     "metadata": {},
     "output_type": "execute_result"
    }
   ],
   "source": [
    "df.groupby('Study area')['Use river water for drinking'] .value_counts()"
   ]
  },
  {
   "cell_type": "code",
   "execution_count": 5,
   "metadata": {},
   "outputs": [
    {
     "name": "stdout",
     "output_type": "stream",
     "text": [
      "Number of observations from each Study area:\n"
     ]
    },
    {
     "data": {
      "text/plain": [
       "Pattambi     76\n",
       "Parali       64\n",
       "Ivarmadom    62\n",
       "Shoranur     57\n",
       "Ponnani      40\n",
       "Name: Study area, dtype: int64"
      ]
     },
     "execution_count": 5,
     "metadata": {},
     "output_type": "execute_result"
    }
   ],
   "source": [
    "print('Number of observations from each Study area:')\n",
    "df['Study area'].value_counts()"
   ]
  },
  {
   "cell_type": "markdown",
   "metadata": {},
   "source": [
    "Proportion test output from R:\n",
    "\n",
    "5-sample test for equality of proportions without continuity correction\n",
    "\n",
    "data:  c(15, 17, 5, 3, 2) out of c(62, 64, 76, 40, 57)\n",
    "<br>X-squared = 23.515, df = 4, p-value = 9.991e-05\n",
    "<br>alternative hypothesis: two.sided\n",
    "<br>sample estimates:\n",
    "<br>prop 1: 0.23809524\n",
    "<br>prop 2: 0.26562500\n",
    "<br>prop 3: 0.06578947\n",
    "<br>prop 4: 0.07500000\n",
    "<br>prop 5: 0.03508772"
   ]
  },
  {
   "cell_type": "code",
   "execution_count": 40,
   "metadata": {},
   "outputs": [
    {
     "data": {
      "image/png": "[encoded data removed]",
      "text/plain": [
       "<Figure size 576x360 with 1 Axes>"
      ]
     },
     "metadata": {
      "needs_background": "light"
     },
     "output_type": "display_data"
    }
   ],
   "source": [
    "plt.figure(figsize=(8,5))\n",
    "sns.countplot(x= df['Study area'], data= df, hue= 'Use river water for drinking')\n",
    "plt.show()"
   ]
  },
  {
   "cell_type": "markdown",
   "metadata": {},
   "source": [
    "proportion test indicates significant difference\n",
    "<br>Parali and Ivarmadom shows ~= 25% positive reception\n",
    "<br>remaining 3 has very low, <8%"
   ]
  },
  {
   "cell_type": "markdown",
   "metadata": {},
   "source": [
    "## Pollution status; effect of study area"
   ]
  },
  {
   "cell_type": "code",
   "execution_count": 7,
   "metadata": {},
   "outputs": [
    {
     "name": "stdout",
     "output_type": "stream",
     "text": [
      "Number of observations for each level of Pollution status recorded:\n"
     ]
    },
    {
     "data": {
      "text/plain": [
       "Not polluted           127\n",
       "Moderately polluted     71\n",
       "Slightly polluted       69\n",
       "Heavily polluted        31\n",
       "Name: Pollution status, dtype: int64"
      ]
     },
     "execution_count": 7,
     "metadata": {},
     "output_type": "execute_result"
    }
   ],
   "source": [
    "print('Number of observations for each level of Pollution status recorded:')\n",
    "df['Pollution status'].value_counts()"
   ]
  },
  {
   "cell_type": "code",
   "execution_count": 8,
   "metadata": {
    "scrolled": true
   },
   "outputs": [
    {
     "data": {
      "text/html": [
       "<div>\n",
       "<style scoped>\n",
       "    .dataframe tbody tr th:only-of-type {\n",
       "        vertical-align: middle;\n",
       "    }\n",
       "\n",
       "    .dataframe tbody tr th {\n",
       "        vertical-align: top;\n",
       "    }\n",
       "\n",
       "    .dataframe thead th {\n",
       "        text-align: right;\n",
       "    }\n",
       "</style>\n",
       "<table border=\"1\" class=\"dataframe\">\n",
       "  <thead>\n",
       "    <tr style=\"text-align: right;\">\n",
       "      <th></th>\n",
       "      <th>Study area</th>\n",
       "      <th>Gender</th>\n",
       "      <th>Age</th>\n",
       "      <th>Educational Status</th>\n",
       "      <th>Years of residence</th>\n",
       "      <th>Frequency of visit</th>\n",
       "      <th>Purpose of visit</th>\n",
       "      <th>Use river water for drinking</th>\n",
       "      <th>Acceptance of water quality</th>\n",
       "      <th>Status of fish population</th>\n",
       "      <th>Status of fish diversity</th>\n",
       "      <th>Presence of Alien species</th>\n",
       "      <th>Cause of fish decline</th>\n",
       "      <th>Pollution status</th>\n",
       "      <th>Nature of pollutants</th>\n",
       "    </tr>\n",
       "  </thead>\n",
       "  <tbody>\n",
       "    <tr>\n",
       "      <th>5</th>\n",
       "      <td>Parali</td>\n",
       "      <td>Male</td>\n",
       "      <td>60-79</td>\n",
       "      <td>HS</td>\n",
       "      <td>&gt;20</td>\n",
       "      <td>Daily</td>\n",
       "      <td>Domestic activities</td>\n",
       "      <td>No</td>\n",
       "      <td>Yes</td>\n",
       "      <td>Know</td>\n",
       "      <td>Know</td>\n",
       "      <td>Yes</td>\n",
       "      <td>Illegfishing</td>\n",
       "      <td>NaN</td>\n",
       "      <td>Gross solids</td>\n",
       "    </tr>\n",
       "    <tr>\n",
       "      <th>48</th>\n",
       "      <td>Parali</td>\n",
       "      <td>Female</td>\n",
       "      <td>60-79</td>\n",
       "      <td>Primary</td>\n",
       "      <td>&gt;20</td>\n",
       "      <td>Daily</td>\n",
       "      <td>Domestic activities</td>\n",
       "      <td>Yes</td>\n",
       "      <td>Yes</td>\n",
       "      <td>Know</td>\n",
       "      <td>Know</td>\n",
       "      <td>Don't know</td>\n",
       "      <td>Don't know</td>\n",
       "      <td>NaN</td>\n",
       "      <td>No pollutants</td>\n",
       "    </tr>\n",
       "  </tbody>\n",
       "</table>\n",
       "</div>"
      ],
      "text/plain": [
       "   Study area  Gender    Age Educational Status Years of residence  \\\n",
       "5      Parali    Male  60-79                 HS                >20   \n",
       "48     Parali  Female  60-79            Primary                >20   \n",
       "\n",
       "   Frequency of visit     Purpose of visit Use river water for drinking  \\\n",
       "5               Daily  Domestic activities                           No   \n",
       "48              Daily  Domestic activities                          Yes   \n",
       "\n",
       "   Acceptance of water quality Status of fish population  \\\n",
       "5                          Yes                      Know   \n",
       "48                         Yes                      Know   \n",
       "\n",
       "   Status of fish diversity Presence of Alien species Cause of fish decline  \\\n",
       "5                      Know                       Yes          Illegfishing   \n",
       "48                     Know                Don't know            Don't know   \n",
       "\n",
       "   Pollution status Nature of pollutants  \n",
       "5               NaN         Gross solids  \n",
       "48              NaN        No pollutants  "
      ]
     },
     "execution_count": 8,
     "metadata": {},
     "output_type": "execute_result"
    }
   ],
   "source": [
    "df[df['Pollution status'].isnull()]"
   ]
  },
  {
   "cell_type": "code",
   "execution_count": 9,
   "metadata": {},
   "outputs": [],
   "source": [
    "df['Pollution status']= df['Pollution status'].fillna(df[df['Study area']=='Parali']['Pollution status'].mode()[0])"
   ]
  },
  {
   "cell_type": "code",
   "execution_count": 31,
   "metadata": {},
   "outputs": [
    {
     "data": {
      "image/png": "[encoded data removed]",
      "text/plain": [
       "<Figure size 864x360 with 1 Axes>"
      ]
     },
     "metadata": {
      "needs_background": "light"
     },
     "output_type": "display_data"
    }
   ],
   "source": [
    "plt.figure(figsize=(12,5))\n",
    "sns.countplot(x= df['Study area'], data= df, hue= 'Pollution status', hue_order= ['Not polluted', 'Slightly polluted', 'Moderately polluted', 'Heavily polluted'])\n",
    "plt.show()"
   ]
  },
  {
   "cell_type": "markdown",
   "metadata": {},
   "source": [
    "In terms of opinion, Shoranur is the only study area where the record 'Not polluted' is outnumbered by a single level of pollution record (Moderately polluted).\n",
    "<br>Ivarmadom records very close number of observations of the two levels above mentioned, where the opinion 'Heavily polluted' is also high in number.\n",
    "<br>Ponnani and Pattambi show similar patterns where lower levels of lower of pollution occur higher in number. \n",
    "<br>Parali also shows a similar pattern, but with the level 'Not polluted' occurring significantly more frequently than seen in the above two."
   ]
  },
  {
   "cell_type": "code",
   "execution_count": 30,
   "metadata": {},
   "outputs": [
    {
     "data": {
      "image/png": "[encoded data removed]",
      "text/plain": [
       "<Figure size 864x360 with 1 Axes>"
      ]
     },
     "metadata": {
      "needs_background": "light"
     },
     "output_type": "display_data"
    }
   ],
   "source": [
    "d_ps= df.copy()\n",
    "d_ps['Pollution status']= d_ps['Pollution status'].map({'Not polluted' : 'Not polluted',\n",
    "                                                       'Slightly polluted' : 'Pollution present',\n",
    "                                                       'Moderately polluted' : 'Pollution present',\n",
    "                                                       'Heavily polluted' : 'Pollution present'}) \n",
    "\n",
    "plt.figure(figsize=(12,5))\n",
    "sns.countplot(x= d_ps['Study area'], data= d_ps, hue= 'Pollution status', hue_order= ['Not polluted', 'Pollution present'])\n",
    "plt.show()"
   ]
  },
  {
   "cell_type": "markdown",
   "metadata": {},
   "source": [
    "Considering all levels of presence of pollution to be a single group to be compared against the level 'No pollution'.\n",
    "<br>Parali is the only study area where the opinion that the river is not polluted outnumbers the one that pollution is present.\n",
    "<br>Ivarmadom and Shoranur areas have high volume stating presence of pollution against it's counter statement.\n",
    "<br>Pattambi and Ponnani shows similar trends, but with the difference in volume of the two opinions much less compared to the areas mentioned above."
   ]
  },
  {
   "cell_type": "markdown",
   "metadata": {},
   "source": [
    "## Pollution status; effect of frequency of visit"
   ]
  },
  {
   "cell_type": "code",
   "execution_count": 37,
   "metadata": {},
   "outputs": [
    {
     "data": {
      "image/png": "[encoded data removed]",
      "text/plain": [
       "<Figure size 576x360 with 1 Axes>"
      ]
     },
     "metadata": {
      "needs_background": "light"
     },
     "output_type": "display_data"
    }
   ],
   "source": [
    "plt.figure(figsize=(8,5))\n",
    "sns.countplot(x= d_ps['Frequency of visit'], data= d_ps, hue= 'Pollution status', order= ['Daily', 'Occasionally', 'Weekly', 'Never'], hue_order= ['Not polluted', 'Pollution present'])\n",
    "plt.show()"
   ]
  },
  {
   "cell_type": "markdown",
   "metadata": {},
   "source": [
    "There is a visible trend that people tend to share the opinion that the river is polluted on some level more when their frequency of visit is higher. The opinion that there is no polllution becomes more popular than it's counter statement among people who never visit the river."
   ]
  },
  {
   "cell_type": "code",
   "execution_count": 13,
   "metadata": {},
   "outputs": [
    {
     "data": {
      "text/plain": [
       "Frequency of visit  Pollution status \n",
       "Daily               Pollution present    76\n",
       "                    Not polluted         46\n",
       "Daily;Occasionally  Pollution present     1\n",
       "Daily;Weekly        Not polluted          1\n",
       "Never               Not polluted         41\n",
       "                    Pollution present    33\n",
       "Occasionally        Pollution present    52\n",
       "                    Not polluted         37\n",
       "Weekly              Pollution present     9\n",
       "                    Not polluted          4\n",
       "Name: Pollution status, dtype: int64"
      ]
     },
     "execution_count": 13,
     "metadata": {},
     "output_type": "execute_result"
    }
   ],
   "source": [
    "d_ps.groupby('Frequency of visit')['Pollution status'].value_counts()"
   ]
  },
  {
   "cell_type": "code",
   "execution_count": 14,
   "metadata": {},
   "outputs": [
    {
     "name": "stdout",
     "output_type": "stream",
     "text": [
      "Number of observations for each level of Frrequency of visit:\n"
     ]
    },
    {
     "data": {
      "text/plain": [
       "Daily                 122\n",
       "Occasionally           89\n",
       "Never                  74\n",
       "Weekly                 13\n",
       "Daily;Weekly            1\n",
       "Daily;Occasionally      1\n",
       "Name: Frequency of visit, dtype: int64"
      ]
     },
     "execution_count": 14,
     "metadata": {},
     "output_type": "execute_result"
    }
   ],
   "source": [
    "print('Number of observations for each level of Frrequency of visit:')\n",
    "d_ps['Frequency of visit'].value_counts()"
   ]
  },
  {
   "cell_type": "markdown",
   "metadata": {},
   "source": [
    "Proportion test output from R:\n",
    "\n",
    "4-sample test for equality of proportions without continuity correction\n",
    "\n",
    "data:  c(76, 52, 33, 9) out of c(122, 89, 74, 13)\n",
    "<br>X-squared = 6.9109, df = 3,\n",
    "<br>p-value = 0.07479\n",
    "<br>alternative hypothesis: two.sided\n",
    "<br>sample estimates:\n",
    "<br>prop 1: 0.6229508\n",
    "<br>prop 2: 0.5842697\n",
    "<br>prop 3: 0.4459459\n",
    "<br>prop 4: 0.6923077"
   ]
  },
  {
   "cell_type": "markdown",
   "metadata": {},
   "source": [
    "A proportion test fails to reject the null hypothesis that the proportions of people who is of the opinion that some level of pollution is present in the river among the 4 different frequency of visit is different.\n",
    "<br>So we cannot infer that there is statistically significant difference in the awareness of people depending on the frequency of visit, from this dataset."
   ]
  },
  {
   "cell_type": "markdown",
   "metadata": {},
   "source": [
    "## Pollution status; effect of years of residence"
   ]
  },
  {
   "cell_type": "code",
   "execution_count": 15,
   "metadata": {},
   "outputs": [
    {
     "name": "stdout",
     "output_type": "stream",
     "text": [
      "Number of observations for each level of Years of residence:\n"
     ]
    },
    {
     "data": {
      "text/plain": [
       ">20      199\n",
       "10-20     49\n",
       "5-10      27\n",
       "<5        22\n",
       "Name: Years of residence, dtype: int64"
      ]
     },
     "execution_count": 15,
     "metadata": {},
     "output_type": "execute_result"
    }
   ],
   "source": [
    "print('Number of observations for each level of Years of residence:')\n",
    "df['Years of residence'].value_counts()"
   ]
  },
  {
   "cell_type": "code",
   "execution_count": 36,
   "metadata": {},
   "outputs": [
    {
     "data": {
      "image/png": "[encoded data removed]",
      "text/plain": [
       "<Figure size 576x360 with 1 Axes>"
      ]
     },
     "metadata": {
      "needs_background": "light"
     },
     "output_type": "display_data"
    }
   ],
   "source": [
    "plt.figure(figsize=(8,5))\n",
    "sns.countplot(x= d_ps['Years of residence'], data= d_ps, hue= 'Pollution status', order= ['<5', '5-10', '10-20', '>20'], hue_order= ['Not polluted', 'Pollution present'])\n",
    "plt.show()"
   ]
  },
  {
   "cell_type": "markdown",
   "metadata": {},
   "source": [
    "Although we cannot infer a clear pattern from this, the group '>20' shows a proportion very different from the others. It is desirable to further look into this considering the rest of the levels as a single group"
   ]
  },
  {
   "cell_type": "code",
   "execution_count": 17,
   "metadata": {},
   "outputs": [
    {
     "data": {
      "image/png": "[encoded data removed]",
      "text/plain": [
       "<Figure size 432x288 with 1 Axes>"
      ]
     },
     "metadata": {
      "needs_background": "light"
     },
     "output_type": "display_data"
    }
   ],
   "source": [
    "d_yr=d_ps.copy()\n",
    "d_yr['Years of residence']= d_yr['Years of residence'].map({'>20' : '>20',\n",
    "                                                           '10-20' : '<20',\n",
    "                                                           '5-10' : '<20',\n",
    "                                                           '<5' : '<20'})\n",
    "\n",
    "sns.countplot(x= d_yr['Years of residence'], data= d_yr, hue= 'Pollution status', order= ['<20', '>20'], hue_order= ['Not polluted', 'Pollution present'])\n",
    "plt.show()"
   ]
  },
  {
   "cell_type": "code",
   "execution_count": 18,
   "metadata": {},
   "outputs": [
    {
     "data": {
      "text/plain": [
       "Years of residence  Pollution status \n",
       "<20                 Not polluted          54\n",
       "                    Pollution present     44\n",
       ">20                 Pollution present    125\n",
       "                    Not polluted          74\n",
       "Name: Pollution status, dtype: int64"
      ]
     },
     "execution_count": 18,
     "metadata": {},
     "output_type": "execute_result"
    }
   ],
   "source": [
    "d_yr.groupby('Years of residence')['Pollution status'].value_counts()"
   ]
  },
  {
   "cell_type": "code",
   "execution_count": 19,
   "metadata": {},
   "outputs": [
    {
     "name": "stdout",
     "output_type": "stream",
     "text": [
      "Number of observations for updated levels of Years of residence:\n"
     ]
    },
    {
     "data": {
      "text/plain": [
       ">20    199\n",
       "<20     98\n",
       "Name: Years of residence, dtype: int64"
      ]
     },
     "execution_count": 19,
     "metadata": {},
     "output_type": "execute_result"
    }
   ],
   "source": [
    "print('Number of observations for updated levels of Years of residence:')\n",
    "d_yr['Years of residence'].value_counts()"
   ]
  },
  {
   "cell_type": "markdown",
   "metadata": {},
   "source": [
    "Proportion test output from R:\n",
    "\n",
    "2-sample test for equality of proportions with continuity correction\n",
    "\n",
    "data:  c(125, 44) out of c(199, 98)\n",
    "<br>X-squared = 7.8796,\n",
    "<br>df = 1,\n",
    "<br>p-value = 0.005\n",
    "<br>alternative hypothesis: two.sided\n",
    "<br>95 percent confidence interval: (0.05235512, 0.30596710)\n",
    "<br>sample estimates:\n",
    "<br>prop 1: 0.6281407\n",
    "<br>prop 2: 0.4489796"
   ]
  },
  {
   "cell_type": "markdown",
   "metadata": {},
   "source": [
    "Proportion test indicates significant difference in the proportion of people who say the river is polluted to some level. Those who have been residing there for more than 20 years tend to say that the river is polluted. Having been able to witness changes over a much larger period of time could be the reason for this."
   ]
  },
  {
   "cell_type": "markdown",
   "metadata": {},
   "source": [
    "## Status of fish population and Status of fish diversity"
   ]
  },
  {
   "cell_type": "code",
   "execution_count": 39,
   "metadata": {},
   "outputs": [
    {
     "data": {
      "image/png": "[encoded data removed]",
      "text/plain": [
       "<Figure size 720x360 with 2 Axes>"
      ]
     },
     "metadata": {
      "needs_background": "light"
     },
     "output_type": "display_data"
    }
   ],
   "source": [
    "figure, axis= plt.subplots(1,2)\n",
    "\n",
    "figure.set_figheight(5)\n",
    "figure.set_figwidth(10)\n",
    "\n",
    "sns.countplot(x=df['Status of fish population'], data=df, ax=axis[0])\n",
    "sns.countplot(x=df['Status of fish diversity'], data=df, ax=axis[1])\n",
    "\n",
    "plt.show()\n",
    "\n",
    "\n",
    "# figure.show()"
   ]
  },
  {
   "cell_type": "code",
   "execution_count": 21,
   "metadata": {},
   "outputs": [
    {
     "name": "stdout",
     "output_type": "stream",
     "text": [
      "Response about Status of fish population in percentage:\n"
     ]
    },
    {
     "data": {
      "text/plain": [
       "Don't know    52.0\n",
       "Know          48.0\n",
       "Name: Status of fish population, dtype: float64"
      ]
     },
     "execution_count": 21,
     "metadata": {},
     "output_type": "execute_result"
    }
   ],
   "source": [
    "print('Response about Status of fish population in percentage:')\n",
    "df['Status of fish population'].value_counts()/len(df)*100"
   ]
  },
  {
   "cell_type": "code",
   "execution_count": 22,
   "metadata": {},
   "outputs": [
    {
     "name": "stdout",
     "output_type": "stream",
     "text": [
      "Response about Status of fish diversity in percentage:\n"
     ]
    },
    {
     "data": {
      "text/plain": [
       "Don't know    63.666667\n",
       "Know          36.000000\n",
       "Name: Status of fish diversity, dtype: float64"
      ]
     },
     "execution_count": 22,
     "metadata": {},
     "output_type": "execute_result"
    }
   ],
   "source": [
    "print('Response about Status of fish diversity in percentage:')\n",
    "df['Status of fish diversity'].value_counts()/len(df)*100"
   ]
  },
  {
   "cell_type": "markdown",
   "metadata": {},
   "source": [
    "The awareness about Fish Diversity (36%) is lower than awareness about Fish Population (48%)"
   ]
  },
  {
   "cell_type": "markdown",
   "metadata": {},
   "source": [
    "## Cause of fish decline"
   ]
  },
  {
   "cell_type": "code",
   "execution_count": 23,
   "metadata": {},
   "outputs": [
    {
     "name": "stdout",
     "output_type": "stream",
     "text": [
      "Response about Cause of fish decline in percentage:\n"
     ]
    },
    {
     "data": {
      "text/plain": [
       "Don't know                                            89.666667\n",
       "Illegfishing                                           8.333333\n",
       "Dand associated sediment accumulation                  1.666667\n",
       "Dand associated sediment accumulation;Illegfishing     0.333333\n",
       "Name: Cause of fish decline, dtype: float64"
      ]
     },
     "execution_count": 23,
     "metadata": {},
     "output_type": "execute_result"
    }
   ],
   "source": [
    "print('Response about Cause of fish decline in percentage:')\n",
    "df['Cause of fish decline'].value_counts()/len(df)*100"
   ]
  },
  {
   "cell_type": "markdown",
   "metadata": {},
   "source": [
    "Almost 90% of people are not aware about the Cause of fish decline"
   ]
  },
  {
   "cell_type": "code",
   "execution_count": 24,
   "metadata": {},
   "outputs": [
    {
     "name": "stdout",
     "output_type": "stream",
     "text": [
      "Response about Presence of Alien species in percentage:\n"
     ]
    },
    {
     "data": {
      "text/plain": [
       "Don't know    73.000000\n",
       "Yes           18.000000\n",
       "No             8.666667\n",
       "Name: Presence of Alien species, dtype: float64"
      ]
     },
     "execution_count": 24,
     "metadata": {},
     "output_type": "execute_result"
    }
   ],
   "source": [
    "print('Response about Presence of Alien species in percentage:')\n",
    "df['Presence of Alien species'].value_counts()/len(df)*100"
   ]
  },
  {
   "cell_type": "markdown",
   "metadata": {},
   "source": [
    "18% of people believe in the Presence of Alien species while 8.7% do not. 73% are not aware of the factor."
   ]
  }
 ],
 "metadata": {
  "kernelspec": {
   "display_name": "Python 3",
   "language": "python",
   "name": "python3"
  },
  "language_info": {
   "codemirror_mode": {
    "name": "ipython",
    "version": 3
   },
   "file_extension": ".py",
   "mimetype": "text/x-python",
   "name": "python",
   "nbconvert_exporter": "python",
   "pygments_lexer": "ipython3",
   "version": "3.8.5"
  }
 },
 "nbformat": 4,
 "nbformat_minor": 4
}
